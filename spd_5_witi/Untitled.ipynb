{
 "cells": [
  {
   "cell_type": "code",
   "execution_count": 4,
   "metadata": {},
   "outputs": [
    {
     "name": "stdout",
     "output_type": "stream",
     "text": [
      "[[53, 7, 7], [84, 5, 91], [46, 5, 216], [83, 1, 52], [1, 2, 748], [5, 7, 673], [93, 4, 514], [38, 1, 413], [68, 6, 922], 766]\n",
      "766\n"
     ]
    }
   ],
   "source": [
    "def openfile(filen):\n",
    "    f = open(filen)\n",
    "    content = f.read().splitlines()\n",
    "    data = [i.split() for i in content]\n",
    "    nums = [list(map(int, dat)) for dat in data]\n",
    "    nums.pop(0)\n",
    "    return nums\n",
    "\n",
    "tab = openfile(\"./test.txt\")\n",
    "size = len(tab)\n",
    "time = 0\n",
    "for i in range (size):\n",
    "    time += tab[i][0]\n",
    "F = []\n",
    "\n",
    "import itertools\n",
    "for i in range(size):\n",
    "    k = tab[i]\n",
    "    tab.pop(i)\n",
    "    permutations = list(itertools.permutations(tab))\n",
    "    best = list(permutations[0])\n",
    "    best.append(9999)\n",
    "    \n",
    "    for perm in permutations:\n",
    "        perm = list(perm)\n",
    "        Ci = 0\n",
    "        penalty = 0\n",
    "        for j in range(size-1):\n",
    "            Ti = 0\n",
    "            Ci += perm[j][0]\n",
    "            if Ci > perm[j][2]:\n",
    "                Ti = Ci - perm[j][2]\n",
    "            penalty += perm[j][1]*Ti\n",
    "        perm.append(penalty)\n",
    "        if penalty < best[size-1]:\n",
    "            best = perm\n",
    "\n",
    "    if time > k[2]:\n",
    "        F.append(best[size-1] + (k[1] * (time - k[2])))\n",
    "    if time <= k[2]:\n",
    "        F.append(best[size-1])\n",
    "    tab.insert(i,k)\n",
    "    \n",
    "print(best)    \n",
    "print(min(F))\n",
    "    "
   ]
  },
  {
   "cell_type": "code",
   "execution_count": null,
   "metadata": {},
   "outputs": [],
   "source": []
  }
 ],
 "metadata": {
  "kernelspec": {
   "display_name": "Python 2",
   "language": "python",
   "name": "python2"
  },
  "language_info": {
   "codemirror_mode": {
    "name": "ipython",
    "version": 2
   },
   "file_extension": ".py",
   "mimetype": "text/x-python",
   "name": "python",
   "nbconvert_exporter": "python",
   "pygments_lexer": "ipython2",
   "version": "2.7.12"
  }
 },
 "nbformat": 4,
 "nbformat_minor": 2
}
